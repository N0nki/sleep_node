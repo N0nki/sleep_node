{
 "cells": [
  {
   "cell_type": "markdown",
   "metadata": {},
   "source": [
    "# sleep_node_static\n",
    "\n",
    "スリープノードを固定して経路群を構築\n",
    "\n",
    "書き出したデータは./static/に保存される"
   ]
  },
  {
   "cell_type": "code",
   "execution_count": null,
   "metadata": {
    "ExecuteTime": {
     "start_time": "2019-06-02T13:49:14.738Z"
    },
    "collapsed": true
   },
   "outputs": [],
   "source": [
    "from itertools import combinations\n",
    "import json\n",
    "import os\n",
    "from glob import glob\n",
    "from pprint import pprint\n",
    "from collections import defaultdict\n",
    "import random\n",
    "import matplotlib.pyplot as plt\n",
    "import networkx as nx\n",
    "import pandas as pd\n",
    "from graphillion import GraphSet\n",
    "\n",
    "from proposal_packages.gridgraph import GridGraph\n",
    "\n",
    "%matplotlib inline"
   ]
  },
  {
   "cell_type": "code",
   "execution_count": null,
   "metadata": {
    "ExecuteTime": {
     "start_time": "2019-06-02T13:49:14.742Z"
    },
    "collapsed": true
   },
   "outputs": [],
   "source": [
    "# 必要な関数\n",
    "\n",
    "project_dir = \"./static/\"\n",
    "\n",
    "def get_min_hop_num(terminal):\n",
    "    \"\"\"\n",
    "    ある2点間のパスの最小ホップ数を求める\n",
    "    重み付きグラフやメトリックテーブルを与えないでmin_iterを使用すると\n",
    "    最小ホップ数のサブグラフからイテレートすることを利用する\n",
    "    \n",
    "    arguments:\n",
    "    * terminal(tuple)\n",
    "       端点を表す(s, t)形式のタプル\n",
    "    \"\"\"\n",
    "    return len(next(GraphSet.paths(terminal[0], terminal[1]).min_iter()))\n",
    "\n",
    "def get_min_hop_paths(paths, terminal):\n",
    "    min_hop = get_min_hop_num(terminal)\n",
    "    return paths.graph_size(min_hop)\n",
    "\n",
    "def get_paths_removed_nodes(paths, nodes):\n",
    "    for node in nodes:\n",
    "        paths = paths.excluding(node)\n",
    "    return paths\n",
    "    \n",
    "def flatten_paths(paths):\n",
    "    \"\"\"\n",
    "    パス集合を平滑化して、リンクを要素とするリストを返す\n",
    "    \"\"\"\n",
    "    return [edge for path in paths for edge in path]\n",
    "\n",
    "def select_sleep_nodes(grid_graph, terminal, num):\n",
    "    \"\"\"\n",
    "    ある確率でスリープ状態になるノードを選択する\n",
    "    \"\"\"\n",
    "    nodes = set(grid_graph.nx_graph.nodes()) - set(terminal)\n",
    "    return random.sample(nodes, k=num)\n",
    "\n",
    "def create_minhop_path(paths, nodes):\n",
    "    for node in nodes:\n",
    "        paths = paths.including(node)\n",
    "    return paths.choice()\n",
    "\n",
    "def hamming(graphset, G, upper_limit):\n",
    "    L = []\n",
    "    lower_limit = 0\n",
    "    for e in graphset:\n",
    "        # 重み付きリンクとして定義されているとき，辺を表すタプルは(i,j,w)と表される．\n",
    "        # そこからi,jのみ取り出すためe[:2]としている\n",
    "        e = e[:2]\n",
    "        if e in G:\n",
    "            L.append((e[0], e[1], -1))\n",
    "            lower_limit -= 1\n",
    "        elif (e[1], e[0]) in G:\n",
    "            L.append((e[1], e[0], -1))\n",
    "            lower_limit -= 1\n",
    "        else:\n",
    "            L.append((e[0], e[1], 1))\n",
    "\n",
    "    # print((L, (lower_limit, lower_limit + upper_limit)))\n",
    "    # print(\"L=\", L, \"lower_limit=\", lower_limit, \"lower_limit+upper_limit=\", lower_limit + upper_limit)\n",
    "    return GraphSet.graphs(linear_constraints=[(L, (lower_limit, lower_limit + upper_limit))])\n",
    "\n",
    "def get_similar_paths(edgelist, terminal, path, upper_limit):\n",
    "    \"\"\"\n",
    "    arguments:\n",
    "    * edgelist\n",
    "    * terminal(tuple)\n",
    "      (start, target)を表すタプル\n",
    "    * path\n",
    "    * upper_limit\n",
    "    \"\"\"\n",
    "    if path is None:\n",
    "        return\n",
    "    similar_graphset = hamming(edgelist, path, upper_limit)\n",
    "    similar_paths = GraphSet.paths(terminal[0], terminal[1], graphset=similar_graphset)\n",
    "    return similar_paths\n",
    "\n",
    "def draw_candidates5(candidates, pathset_nodes):\n",
    "    \"\"\"\n",
    "    とりあえず5本描画する用の設定\n",
    "    \"\"\"\n",
    "    plt.figure(figsize=(n+n*2+60, n+n*2+60))\n",
    "    for i,  path in enumerate(candidates):\n",
    "        plt.subplot(11, 10, 1+i)\n",
    "        grid_graph.draw(subgraph=path, optional_colored_nodes=pathset_nodes)\n",
    "\n",
    "def hamming_between_candidates(paths):\n",
    "    res = defaultdict(list)\n",
    "    for _path1, _path2 in combinations(paths, 2):\n",
    "        duplicate_link_num = len(set(_path1) - set(_path2))\n",
    "        res[tuple(_path1)].append(duplicate_link_num)\n",
    "        res[tuple(_path2)].append(duplicate_link_num)\n",
    "    \n",
    "    total = 0\n",
    "    for path, l in res.items():\n",
    "        if sum(l) > total:\n",
    "            total = sum(l)\n",
    "            determinated = path\n",
    "    return determinated, res\n",
    "\n",
    "def _project_exists():\n",
    "    \"\"\"\n",
    "    ランダム選択の結果のjsonファイルを\n",
    "    保存するディレクトリが存在するか確認する\n",
    "    \"\"\"\n",
    "    if not os.path.exists(project_dir):\n",
    "        os.mkdir(project_dir)\n",
    "\n",
    "def _create_sequencial_filename(candidates):\n",
    "    \"\"\"\n",
    "    ファイル名が重複しないように\n",
    "    ファイル名末尾に通し番号を付ける\n",
    "    \"\"\"\n",
    "    keys = list(candidates.keys())\n",
    "    vals = list(candidates.values())\n",
    "    filename = \"sleep{}_candidate{}*.json\".format(len(keys[0]), len(vals[0]))\n",
    "    sequencial_file_numbers = []\n",
    "    for matched in glob(project_dir + filename):\n",
    "        matched = os.path.splitext(os.path.basename(matched))[0]\n",
    "        sequencial_file_numbers.append(int(matched.split(\"_\")[2]))\n",
    "    if sequencial_file_numbers:\n",
    "        next_num = max(sequencial_file_numbers) + 1\n",
    "    else:\n",
    "        next_num = 1\n",
    "    return \"sleep{}_candidate{}_{}.json\".format(len(keys[0]), len(vals[0]), next_num)\n",
    "\n",
    "def dump_candidates_json(candidates):\n",
    "    \"\"\"\n",
    "    candidatesをjsonファイルにして書き出す\n",
    "    \n",
    "    書き出すjsonファイルの命名規則について\n",
    "    sleep{sleep node num}_candidate{candidate path num}_{sequencial}.json\n",
    "    \"\"\"\n",
    "    _project_exists()\n",
    "    filename = _create_sequencial_filename(candidates)\n",
    "    with open(project_dir + filename, \"w\") as result_json:\n",
    "        result_json.write(json.dumps({str(k): v for k, v in candidates.items()}))\n",
    "\n",
    "def load_candidates_json(filename):\n",
    "    \"\"\"\n",
    "    candidatesの内容を書き出したjsonファイルを読み込んで辞書形式に復元する\n",
    "    \"\"\"\n",
    "    str2tuple = lambda s: tuple(map(int, s[1:-1].split(\",\")))\n",
    "    candidates = {}\n",
    "    with open(project_dir + filename, \"r\") as f:\n",
    "        temp_candidates = json.load(f)\n",
    "        candidates_values = []\n",
    "        for nodes, paths in temp_candidates.items():\n",
    "            candidates_values = [list(map(tuple, path)) for path in paths]\n",
    "            candidates[str2tuple(nodes)] = candidates_values\n",
    "    return candidates"
   ]
  },
  {
   "cell_type": "markdown",
   "metadata": {},
   "source": [
    "格子グラフの作成"
   ]
  },
  {
   "cell_type": "code",
   "execution_count": null,
   "metadata": {
    "ExecuteTime": {
     "start_time": "2019-06-02T13:49:14.744Z"
    },
    "collapsed": false
   },
   "outputs": [],
   "source": [
    "n = 8\n",
    "grid_graph = GridGraph(n, n)\n",
    "plt.figure(figsize=(n, n))\n",
    "grid_graph.draw()"
   ]
  },
  {
   "cell_type": "code",
   "execution_count": null,
   "metadata": {
    "ExecuteTime": {
     "start_time": "2019-06-02T13:49:14.746Z"
    },
    "collapsed": true
   },
   "outputs": [],
   "source": [
    "s, t = 1, (n + 1) * (n + 1)"
   ]
  },
  {
   "cell_type": "code",
   "execution_count": null,
   "metadata": {
    "ExecuteTime": {
     "start_time": "2019-06-02T13:49:14.748Z"
    },
    "collapsed": true
   },
   "outputs": [],
   "source": [
    "GraphSet.set_universe(grid_graph.nx_graph.edges())"
   ]
  },
  {
   "cell_type": "code",
   "execution_count": null,
   "metadata": {
    "ExecuteTime": {
     "start_time": "2019-06-02T13:49:14.750Z"
    },
    "collapsed": true
   },
   "outputs": [],
   "source": [
    "ptahs = GraphSet.paths(s, t).graph_size(n * 2)"
   ]
  },
  {
   "cell_type": "markdown",
   "metadata": {},
   "source": [
    "スリープするノードを選択"
   ]
  },
  {
   "cell_type": "code",
   "execution_count": null,
   "metadata": {
    "ExecuteTime": {
     "start_time": "2019-06-02T13:49:14.752Z"
    },
    "collapsed": false
   },
   "outputs": [],
   "source": [
    "sleep_nodes = select_sleep_nodes(grid_graph, (s, t), 15)\n",
    "sleep_nodes"
   ]
  },
  {
   "cell_type": "code",
   "execution_count": null,
   "metadata": {
    "ExecuteTime": {
     "start_time": "2019-06-02T13:49:14.754Z"
    },
    "collapsed": false
   },
   "outputs": [],
   "source": [
    "plt.figure(figsize=(n, n))\n",
    "grid_graph.draw(optional_colored_nodes=sleep_nodes)"
   ]
  },
  {
   "cell_type": "markdown",
   "metadata": {},
   "source": [
    "パスの最小ホップを求める"
   ]
  },
  {
   "cell_type": "code",
   "execution_count": null,
   "metadata": {
    "ExecuteTime": {
     "start_time": "2019-06-02T13:49:14.756Z"
    },
    "collapsed": true
   },
   "outputs": [],
   "source": [
    "min_hop_s_t = get_min_hop_num((s, t))"
   ]
  },
  {
   "cell_type": "markdown",
   "metadata": {},
   "source": [
    "最小ホップ数のパス集合を求める"
   ]
  },
  {
   "cell_type": "code",
   "execution_count": null,
   "metadata": {
    "ExecuteTime": {
     "start_time": "2019-06-02T13:49:14.758Z"
    },
    "collapsed": false
   },
   "outputs": [],
   "source": [
    "min_hop_paths = GraphSet.paths(s, t).graph_size(min_hop_s_t)\n",
    "len(min_hop_paths)"
   ]
  },
  {
   "cell_type": "markdown",
   "metadata": {},
   "source": [
    "スリープしているノードを除外したパス集合を求める"
   ]
  },
  {
   "cell_type": "code",
   "execution_count": null,
   "metadata": {
    "ExecuteTime": {
     "start_time": "2019-06-02T13:49:14.760Z"
    },
    "collapsed": false
   },
   "outputs": [],
   "source": [
    "for sleep_node in sleep_nodes:\n",
    "    min_hop_paths = min_hop_paths.excluding(sleep_node)\n",
    "len(min_hop_paths)"
   ]
  },
  {
   "cell_type": "markdown",
   "metadata": {},
   "source": [
    "経路群を5本構築する"
   ]
  },
  {
   "cell_type": "code",
   "execution_count": null,
   "metadata": {
    "ExecuteTime": {
     "start_time": "2019-06-02T13:49:14.762Z"
    },
    "collapsed": true
   },
   "outputs": [],
   "source": [
    "_candidates = []\n",
    "for i, path in enumerate(min_hop_paths.rand_iter()):\n",
    "    _candidates.append(path)\n",
    "    if i == 4:\n",
    "        break\n",
    "candidates = {tuple(sleep_nodes): _candidates}"
   ]
  },
  {
   "cell_type": "markdown",
   "metadata": {},
   "source": [
    "経路群をJSONファイルに書き出す"
   ]
  },
  {
   "cell_type": "code",
   "execution_count": null,
   "metadata": {
    "ExecuteTime": {
     "start_time": "2019-06-02T13:49:14.764Z"
    },
    "collapsed": true
   },
   "outputs": [],
   "source": [
    "dump_candidates_json(candidates)"
   ]
  },
  {
   "cell_type": "markdown",
   "metadata": {},
   "source": [
    "JSONファイルの経路群を復元する"
   ]
  },
  {
   "cell_type": "code",
   "execution_count": null,
   "metadata": {
    "ExecuteTime": {
     "start_time": "2019-06-02T13:49:14.765Z"
    },
    "collapsed": true
   },
   "outputs": [],
   "source": [
    "loaded_candidates = load_candidates_json(\"sleep15_candidate5_1.json\")"
   ]
  },
  {
   "cell_type": "markdown",
   "metadata": {},
   "source": [
    "経路群を描画"
   ]
  },
  {
   "cell_type": "code",
   "execution_count": null,
   "metadata": {
    "ExecuteTime": {
     "start_time": "2019-06-02T13:49:14.767Z"
    },
    "collapsed": false
   },
   "outputs": [],
   "source": [
    "draw_candidates5(list(loaded_candidates.values())[0], sleep_nodes)"
   ]
  },
  {
   "cell_type": "markdown",
   "metadata": {},
   "source": [
    "1つの図にまとめて描画"
   ]
  },
  {
   "cell_type": "code",
   "execution_count": null,
   "metadata": {
    "ExecuteTime": {
     "start_time": "2019-06-02T13:49:14.770Z"
    },
    "collapsed": false
   },
   "outputs": [],
   "source": [
    "# 5本の経路群をまとめて描画\n",
    "colors = [\"c\", \"g\", \"b\", \"m\", \"r\", \"y\"]\n",
    "plt.figure(figsize=(n, n))\n",
    "grid_graph.draw_multi_subgraphs(subgraphs=list(loaded_candidates.values())[0], colors=colors)"
   ]
  },
  {
   "cell_type": "markdown",
   "metadata": {},
   "source": [
    "決定経路を描画"
   ]
  },
  {
   "cell_type": "code",
   "execution_count": null,
   "metadata": {
    "ExecuteTime": {
     "start_time": "2019-06-02T13:49:14.772Z"
    },
    "collapsed": false
   },
   "outputs": [],
   "source": [
    "determinated, _ = hamming_between_candidates(list(loaded_candidates.values())[0])\n",
    "plt.figure(figsize=(n, n))\n",
    "grid_graph.draw(subgraph=determinated, optional_colored_nodes=sleep_nodes)"
   ]
  },
  {
   "cell_type": "markdown",
   "metadata": {},
   "source": [
    "経路群の各経路がもつ類似の代替経路（最小迂回で再構成できる経路）の本数"
   ]
  },
  {
   "cell_type": "code",
   "execution_count": null,
   "metadata": {
    "ExecuteTime": {
     "start_time": "2019-06-02T13:49:14.774Z"
    },
    "collapsed": false
   },
   "outputs": [],
   "source": [
    "for path in list(loaded_candidates.values())[0]:\n",
    "    print(path, len(get_similar_paths(GraphSet.universe(), (s, t), path, 4).graph_size(min_hop_s_t)))"
   ]
  }
 ],
 "metadata": {
  "kernelspec": {
   "display_name": "Python 3",
   "language": "python",
   "name": "python3"
  },
  "language_info": {
   "codemirror_mode": {
    "name": "ipython",
    "version": 3
   },
   "file_extension": ".py",
   "mimetype": "text/x-python",
   "name": "python",
   "nbconvert_exporter": "python",
   "pygments_lexer": "ipython3",
   "version": "3.6.0"
  },
  "toc": {
   "base_numbering": 1,
   "nav_menu": {},
   "number_sections": true,
   "sideBar": true,
   "skip_h1_title": false,
   "title_cell": "Table of Contents",
   "title_sidebar": "Contents",
   "toc_cell": false,
   "toc_position": {},
   "toc_section_display": true,
   "toc_window_display": false
  }
 },
 "nbformat": 4,
 "nbformat_minor": 2
}
